{
 "cells": [
  {
   "cell_type": "markdown",
   "metadata": {},
   "source": [
    "# Conditional Probability - Lab\n",
    "\n",
    "## Introduction\n",
    "\n",
    "In order to be ready for real-world applications of probability, it is important to understand what happens when probabilities are not independent. Very often, the probability of a certain event depends on other events happening! Let's see how this all works in this lab.\n",
    "\n",
    "## Objectives\n",
    "\n",
    "You will be able to:\n",
    "\n",
    "- Understand and explain the conditional probability - $P(A \\cap B) = P(A \\mid B) P(B)$\n",
    "- Use the multiplication rule to find the probability of the intersection of two events\n",
    "- Apply the techniques learned in the lesson to simple problems\n",
    "\n",
    "## Exercise 1\n",
    "A coin is tossed and a single 6-sided dice is rolled. Find the probability of landing on the head side of the coin and rolling a 3 on the dice."
   ]
  },
  {
   "cell_type": "code",
   "execution_count": 1,
   "metadata": {
    "ExecuteTime": {
     "end_time": "2019-10-23T14:47:58.566380Z",
     "start_time": "2019-10-23T14:47:58.557142Z"
    }
   },
   "outputs": [
    {
     "data": {
      "text/plain": [
       "0.08333333333333333"
      ]
     },
     "execution_count": 1,
     "metadata": {},
     "output_type": "execute_result"
    }
   ],
   "source": [
    "# Your code here\n",
    "# 1/2 and 1/6\n",
    "(1/2) * (1/6)"
   ]
  },
  {
   "cell_type": "markdown",
   "metadata": {},
   "source": [
    "## Exercise 2\n",
    "\n",
    "\n",
    "After conducting a survey, one of the outcomes was that 8 out of 10 of the survey subjects liked chocolate chip cookies. If three survey subjects are chosen at random **with replacement**, what is the probability that all three like chocolate chip cookies?"
   ]
  },
  {
   "cell_type": "code",
   "execution_count": 2,
   "metadata": {
    "ExecuteTime": {
     "end_time": "2019-10-23T14:50:30.245459Z",
     "start_time": "2019-10-23T14:50:30.240366Z"
    }
   },
   "outputs": [
    {
     "data": {
      "text/plain": [
       "0.5120000000000001"
      ]
     },
     "execution_count": 2,
     "metadata": {},
     "output_type": "execute_result"
    }
   ],
   "source": [
    "# Your code here\n",
    "#prob(likes chocolate = 8/10) with replacement so each has a 8/10 chance of liking chocolate chip cookies\n",
    "(8/10) * (8/10) * (8/10)"
   ]
  },
  {
   "cell_type": "markdown",
   "metadata": {},
   "source": [
    "## Exercise 3\n",
    "70% of your friends like chocolate flavored ice cream, and 35% like chocolate AND like strawberry flavors.\n",
    "\n",
    "What percent of those who like chocolate also like strawberry?"
   ]
  },
  {
   "cell_type": "code",
   "execution_count": 3,
   "metadata": {
    "ExecuteTime": {
     "end_time": "2019-10-23T14:54:04.641357Z",
     "start_time": "2019-10-23T14:54:04.636967Z"
    }
   },
   "outputs": [
    {
     "data": {
      "text/plain": [
       "0.5"
      ]
     },
     "execution_count": 3,
     "metadata": {},
     "output_type": "execute_result"
    }
   ],
   "source": [
    "# Your code here\n",
    "#.7 = chocolate\n",
    "# .35 chocolate AND strawberry\n",
    "#prob of chocolate given strawberry\n",
    ".35 / .7"
   ]
  },
  {
   "cell_type": "markdown",
   "metadata": {},
   "source": [
    "50% of your friends who like chocolate also like strawberry\n",
    "\n",
    "## Exercise 4\n",
    "What is the probability of drawing 2 consecutive aces from a deck of cards. "
   ]
  },
  {
   "cell_type": "code",
   "execution_count": 4,
   "metadata": {
    "ExecuteTime": {
     "end_time": "2019-10-23T15:02:41.601670Z",
     "start_time": "2019-10-23T15:02:41.596944Z"
    }
   },
   "outputs": [
    {
     "data": {
      "text/plain": [
       "0.004524886877828055"
      ]
     },
     "execution_count": 4,
     "metadata": {},
     "output_type": "execute_result"
    }
   ],
   "source": [
    "# Your code here\n",
    "(4/52) * (3/51)"
   ]
  },
  {
   "cell_type": "markdown",
   "metadata": {},
   "source": [
    "## Exercise 5\n",
    "In a manufacturing factory that produces a certain product, there are 100 units of the product, 5 of which are defective. We pick three units from the 100 units at random. \n",
    "\n",
    "What is the probability that none of them are defective?\n",
    "Hint: Use the chain rule here!"
   ]
  },
  {
   "cell_type": "code",
   "execution_count": 5,
   "metadata": {
    "ExecuteTime": {
     "end_time": "2019-10-23T15:06:37.876243Z",
     "start_time": "2019-10-23T15:06:37.870869Z"
    }
   },
   "outputs": [
    {
     "data": {
      "text/plain": [
       "0.8473523109886746"
      ]
     },
     "execution_count": 5,
     "metadata": {},
     "output_type": "execute_result"
    }
   ],
   "source": [
    "# Your code here\n",
    "(95/100) * (94/99) * (93/99)"
   ]
  },
  {
   "cell_type": "markdown",
   "metadata": {},
   "source": [
    "## Exercise 6\n",
    "\n",
    "Let's consider the example where 2 dice are thrown. Given that **at least one** of the dice has come up on a number higher than 4, what is the probability that the sum is 8?\n",
    "\n",
    "Let $i,j$ be the numbers shown on the dice. The events $A$ and $B$ are described below:\n",
    "\n",
    "* **Event $A$ is when either $i$ or $j$ is 5 or 6** (keep an eye on either - or)\n",
    "* **Event $B$ is when $i + j = 8$**\n",
    "\n",
    "\n",
    "* What is the size of sample space $\\Omega$ ?\n",
    "* What is $P(A \\cap B)$ ?\n",
    "* What is $P(A)$ ?\n",
    "* Use above to calculate $P(B \\mid A)$"
   ]
  },
  {
   "cell_type": "code",
   "execution_count": 56,
   "metadata": {
    "ExecuteTime": {
     "end_time": "2019-10-24T09:33:36.350422Z",
     "start_time": "2019-10-24T09:33:36.332813Z"
    }
   },
   "outputs": [
    {
     "name": "stdout",
     "output_type": "stream",
     "text": [
      "sample size is: 36\n",
      "prob of a: 0.5555555555555556\n",
      "prob of A and B: 0.1111111111111111\n",
      "prob of B given A: 0.19999999999999998\n"
     ]
    }
   ],
   "source": [
    "# Your code here\n",
    "sample_size = 6*6\n",
    "print(\"sample size is: {}\".format(sample_size))\n",
    "\n",
    "prob_B = 5/36\n",
    "prob_A = 20/36\n",
    "print(\"prob of a: {}\".format(prob_A))\n",
    "\n",
    "#𝑃(𝐴∩𝐵)  \n",
    "prob_A_and_B = 4/36\n",
    "print(\"prob of A and B: {}\".format(prob_A_and_B))\n",
    "\n",
    "prob_B_given_A = prob_A_and_B / prob_A\n",
    "print(\"prob of B given A: {}\".format(prob_B_given_A))"
   ]
  },
  {
   "cell_type": "code",
   "execution_count": 18,
   "metadata": {
    "ExecuteTime": {
     "end_time": "2019-10-23T15:30:22.712785Z",
     "start_time": "2019-10-23T15:30:22.708152Z"
    }
   },
   "outputs": [
    {
     "data": {
      "text/plain": [
       "0.5555555555555556"
      ]
     },
     "execution_count": 18,
     "metadata": {},
     "output_type": "execute_result"
    }
   ],
   "source": [
    "20/36"
   ]
  },
  {
   "cell_type": "markdown",
   "metadata": {},
   "source": [
    "## Exercise 7\n",
    "\n",
    "Let's consider a credit card example. At a supermarket, customers are selected randomly, the store owner recorded whether costumers owned a Visa card (event A) or an Amex credit card (event B). Some customers own both cards.\n",
    "You can assume that:\n",
    "\n",
    "- $P(A)$ = 0.5\n",
    "- $P(B)$ = 0.4\n",
    "- both $A$ and $B$ = 0.25.\n",
    "\n",
    "\n",
    "With the knowledge we have about conditional probabilities, compute and interpret the following probabilities:\n",
    "\n",
    "- $P(B \\mid A)$\n",
    "- $P(B' \\mid A)$\n",
    "- $P(A \\mid B)$\n",
    "- $P(A' \\mid B)$\n"
   ]
  },
  {
   "cell_type": "code",
   "execution_count": 38,
   "metadata": {
    "ExecuteTime": {
     "end_time": "2019-10-24T07:32:11.932236Z",
     "start_time": "2019-10-24T07:32:11.928919Z"
    }
   },
   "outputs": [
    {
     "name": "stdout",
     "output_type": "stream",
     "text": [
      "prob of B given A: 0.5\n"
     ]
    }
   ],
   "source": [
    "# Your code here\n",
    "\n",
    "prob_B_given_A = 0.25/0.5\n",
    "print(\"prob of B given A: {}\".format(prob_B_given_A))"
   ]
  },
  {
   "cell_type": "code",
   "execution_count": 44,
   "metadata": {
    "ExecuteTime": {
     "end_time": "2019-10-24T07:59:52.616905Z",
     "start_time": "2019-10-24T07:59:52.611916Z"
    }
   },
   "outputs": [
    {
     "data": {
      "text/plain": [
       "0.5"
      ]
     },
     "execution_count": 44,
     "metadata": {},
     "output_type": "execute_result"
    }
   ],
   "source": [
    "prob_Bprime_givenA = 1 - (.25/.5)\n",
    "prob_Bprime_givenA"
   ]
  },
  {
   "cell_type": "code",
   "execution_count": 39,
   "metadata": {
    "ExecuteTime": {
     "end_time": "2019-10-24T07:34:00.898425Z",
     "start_time": "2019-10-24T07:34:00.891567Z"
    }
   },
   "outputs": [
    {
     "name": "stdout",
     "output_type": "stream",
     "text": [
      "0.625\n"
     ]
    }
   ],
   "source": [
    "prob_AgivenB = 0.25/0.4\n",
    "print(prob_AgivenB)"
   ]
  },
  {
   "cell_type": "code",
   "execution_count": 43,
   "metadata": {
    "ExecuteTime": {
     "end_time": "2019-10-24T07:59:25.799765Z",
     "start_time": "2019-10-24T07:59:25.795393Z"
    }
   },
   "outputs": [
    {
     "data": {
      "text/plain": [
       "0.375"
      ]
     },
     "execution_count": 43,
     "metadata": {},
     "output_type": "execute_result"
    }
   ],
   "source": [
    "prob_Aprime_givenB =1-(.25/.4)\n",
    "prob_Aprime_givenB"
   ]
  },
  {
   "cell_type": "markdown",
   "metadata": {},
   "source": [
    "## Summary \n",
    "\n",
    "In this lab, you practiced conditional probability and its theorem with some simple problems. The key takeaway from this lab is to be able to identify random events as dependent or independent and calculating the probability of their occurrence using appropriate methods. Next, you'll learn about some more conditional probability axioms, building on the knowledge we have so far. "
   ]
  }
 ],
 "metadata": {
  "kernelspec": {
   "display_name": "learn-env",
   "language": "python",
   "name": "learn-env"
  },
  "language_info": {
   "codemirror_mode": {
    "name": "ipython",
    "version": 3
   },
   "file_extension": ".py",
   "mimetype": "text/x-python",
   "name": "python",
   "nbconvert_exporter": "python",
   "pygments_lexer": "ipython3",
   "version": "3.6.9"
  },
  "toc": {
   "base_numbering": 1,
   "nav_menu": {},
   "number_sections": true,
   "sideBar": true,
   "skip_h1_title": false,
   "title_cell": "Table of Contents",
   "title_sidebar": "Contents",
   "toc_cell": false,
   "toc_position": {},
   "toc_section_display": true,
   "toc_window_display": false
  },
  "varInspector": {
   "cols": {
    "lenName": 16,
    "lenType": 16,
    "lenVar": 40
   },
   "kernels_config": {
    "python": {
     "delete_cmd_postfix": "",
     "delete_cmd_prefix": "del ",
     "library": "var_list.py",
     "varRefreshCmd": "print(var_dic_list())"
    },
    "r": {
     "delete_cmd_postfix": ") ",
     "delete_cmd_prefix": "rm(",
     "library": "var_list.r",
     "varRefreshCmd": "cat(var_dic_list()) "
    }
   },
   "types_to_exclude": [
    "module",
    "function",
    "builtin_function_or_method",
    "instance",
    "_Feature"
   ],
   "window_display": true
  }
 },
 "nbformat": 4,
 "nbformat_minor": 2
}
